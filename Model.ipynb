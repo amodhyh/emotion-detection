{
 "cells": [
  {
   "cell_type": "code",
   "id": "initial_id",
   "metadata": {
    "collapsed": true,
    "ExecuteTime": {
     "end_time": "2025-09-05T15:45:38.540644Z",
     "start_time": "2025-09-05T15:44:37.707078Z"
    }
   },
   "source": [
    "import torch\n",
    "import torch.nn as nn\n",
    "import pandas as pd\n",
    "from torch.optim import AdamW\n",
    "from transformers import RobertaModel\n",
    "from sklearn.model_selection import train_test_split\n",
    "from torch.utils.data import Dataset, DataLoader\n",
    "from transformers import AutoTokenizer, AutoModelForMaskedLM, pipeline\n",
    "from sklearn.metrics import accuracy_score, precision_recall_fscore_support\n",
    "import matplotlib.pyplot as plt\n",
    "import numpy as np\n",
    "from tqdm.notebook import tqdm\n",
    "\n",
    "print(\"Torch version:\", torch.__version__)\n",
    "print(\"CUDA available:\", torch.cuda.is_available())\n",
    "print(\"CUDA toolkit version:\", torch.version.cuda)\n",
    "print(\"Device name:\", torch.cuda.get_device_name(0))"
   ],
   "outputs": [
    {
     "name": "stdout",
     "output_type": "stream",
     "text": [
      "Torch version: 2.7.1+cu118\n",
      "CUDA available: True\n",
      "CUDA toolkit version: 11.8\n",
      "Device name: NVIDIA GeForce RTX 3050 Laptop GPU\n"
     ]
    }
   ],
   "execution_count": 1
  },
  {
   "metadata": {
    "ExecuteTime": {
     "end_time": "2025-09-05T15:45:47.322845Z",
     "start_time": "2025-09-05T15:45:39.425978Z"
    }
   },
   "cell_type": "code",
   "source": [
    "pipe = pipeline(\"fill-mask\", model=\"NLPC-UOM/SinBERT-large\")\n",
    "\n",
    "tokenizer = AutoTokenizer.from_pretrained(\"NLPC-UOM/SinBERT-large\")\n",
    "model = AutoModelForMaskedLM.from_pretrained(\"NLPC-UOM/SinBERT-large\")"
   ],
   "id": "b474cd6d67b75623",
   "outputs": [
    {
     "name": "stderr",
     "output_type": "stream",
     "text": [
      "Device set to use cuda:0\n"
     ]
    }
   ],
   "execution_count": 2
  },
  {
   "metadata": {
    "ExecuteTime": {
     "end_time": "2025-09-05T15:45:47.741110Z",
     "start_time": "2025-09-05T15:45:47.451666Z"
    }
   },
   "cell_type": "code",
   "source": [
    "device = torch.device('cuda' if torch.cuda.is_available() else 'cpu')\n",
    "model = model.to(device)"
   ],
   "id": "f34b77002331410",
   "outputs": [],
   "execution_count": 3
  },
  {
   "metadata": {
    "ExecuteTime": {
     "end_time": "2025-09-05T15:45:47.960218Z",
     "start_time": "2025-09-05T15:45:47.762775Z"
    }
   },
   "cell_type": "code",
   "source": [
    "df = pd.read_csv('./processed/processed_dataset.csv')\n",
    "\n",
    "# After loading df and before defining criterion\n",
    "labels = df['label'].values\n",
    "class_sample_count = np.array([np.sum(labels == t) for t in np.unique(labels)])\n",
    "weight = 1. / class_sample_count\n",
    "\n",
    "#converts numpy array of weights to torch tensor and move it to the same device as the model\n",
    "class_weights = torch.tensor(weight, dtype=torch.float).to(device)\n",
    "\n",
    "# Use in loss function\n",
    "criterion = nn.CrossEntropyLoss(weight=class_weights)\n",
    "optimizer= AdamW(model.parameters(), lr=2e-5, weight_decay=0.01)"
   ],
   "id": "7b732447ac9d0c11",
   "outputs": [],
   "execution_count": 4
  },
  {
   "metadata": {
    "ExecuteTime": {
     "end_time": "2025-09-05T15:45:49.657967Z",
     "start_time": "2025-09-05T15:45:49.651618Z"
    }
   },
   "cell_type": "code",
   "source": "class_sample_count",
   "id": "faffd825da3ebc6d",
   "outputs": [
    {
     "data": {
      "text/plain": [
       "array([502, 540, 504, 606, 507, 496])"
      ]
     },
     "execution_count": 5,
     "metadata": {},
     "output_type": "execute_result"
    }
   ],
   "execution_count": 5
  },
  {
   "metadata": {},
   "cell_type": "markdown",
   "source": "## Creating the DataSet Class\n",
   "id": "57edb3db029fe62b"
  },
  {
   "metadata": {},
   "cell_type": "markdown",
   "source": [
    "the class wich represent the data.the dataloder will use this class to load the data one by one or in batches.it relies on 2 methods.\n",
    "\n",
    "- `__len__`    - returns the length of the dataset\n",
    "- `__getitem__` - returns the item at the given index\n",
    "Also it has the constructor which takes the dataframe, tokenizer and max_length as input parameters.\n",
    "- `__init__`- constructor to initialize the dataset with a dataframe, tokenizer, and maximum sequence length.\n",
    "    - `self.text`,`self.label` - store the raw sinhala texts and labels from the dataframe.\n",
    "    - `self.tokenizer` - stores the tokenizer object.\n",
    "    - `self.max_length` - stores the maximum length of the input sequence.all the sentences will be padded or truncated to this length."
   ],
   "id": "f7f199f83b3fd68a"
  },
  {
   "metadata": {
    "ExecuteTime": {
     "end_time": "2025-09-05T15:45:49.697486Z",
     "start_time": "2025-09-05T15:45:49.692683Z"
    }
   },
   "cell_type": "code",
   "source": [
    "class SinhalaEmotionDataset(Dataset):\n",
    "    def __init__(self, texts, labels, tokenizer, max_len=128):\n",
    "        self.texts = texts\n",
    "        # Create label-to-index mapping\n",
    "        self.label2idx = {label: idx for idx, label in enumerate(sorted(set(labels)))}\n",
    "        self.labels = [self.label2idx[label] for label in labels]\n",
    "        self.tokenizer = tokenizer\n",
    "        self.max_len = max_len\n",
    "\n",
    "    def __len__(self):\n",
    "        return len(self.texts)\n",
    "\n",
    "    def __getitem__(self, item):\n",
    "        text = str(self.texts[item])\n",
    "        label = self.labels[item]\n",
    "\n",
    "        encoding = self.tokenizer.encode_plus(\n",
    "            text,\n",
    "            add_special_tokens=True,\n",
    "            max_length=self.max_len,\n",
    "            padding='max_length',\n",
    "            truncation=True,\n",
    "            return_attention_mask=True,\n",
    "            return_tensors='pt',\n",
    "        )\n",
    "\n",
    "        return {\n",
    "            'input_ids': encoding['input_ids'].flatten(),\n",
    "            'attention_mask': encoding['attention_mask'].flatten(),\n",
    "            'labels': torch.tensor(label, dtype=torch.long)\n",
    "        }"
   ],
   "id": "b0d897f202c10d21",
   "outputs": [],
   "execution_count": 6
  },
  {
   "metadata": {},
   "cell_type": "markdown",
   "source": "## Dataloader",
   "id": "22afb248ea02fb4b"
  },
  {
   "metadata": {
    "ExecuteTime": {
     "end_time": "2025-09-05T15:45:49.796337Z",
     "start_time": "2025-09-05T15:45:49.726525Z"
    }
   },
   "cell_type": "code",
   "source": [
    "df_train,df_test=train_test_split(df,test_size=0.2,random_state=42,stratify=df['label'])#stratify is used to maintain the class distribution in the train and test sets(emotion percentages are same in both sets).\n",
    "\n",
    "#Dataset and Dataloader\n",
    "BATCH_SIZE = 16\n",
    "# Instantiate the custom dataset for each split\n",
    "train_dataset = SinhalaEmotionDataset(\n",
    "    texts=df_train['text'].tolist(),\n",
    "    labels=df_train['label'].tolist(),\n",
    "    tokenizer=tokenizer\n",
    ")\n",
    "\n",
    "test_dataset = SinhalaEmotionDataset(\n",
    "    texts=df_test['text'].tolist(),\n",
    "    labels=df_test['label'].tolist(),\n",
    "    tokenizer=tokenizer\n",
    ")\n",
    "\n",
    "train_dataloader = DataLoader(train_dataset, batch_size=BATCH_SIZE, shuffle=True)\n",
    "test_dataloader = DataLoader(test_dataset, batch_size=BATCH_SIZE)\n",
    "# Set up the DataLoader for each split\n",
    "train_data_loader = DataLoader(\n",
    "    train_dataset,\n",
    "    batch_size=BATCH_SIZE,\n",
    "    shuffle=True\n",
    ")\n",
    "\n",
    "test_data_loader = DataLoader(\n",
    "    test_dataset,\n",
    "    batch_size=BATCH_SIZE\n",
    ")\n",
    "\n",
    "print(\"Data Loaders for training, validation, and testing are ready.\")"
   ],
   "id": "9bc8657e18356f34",
   "outputs": [
    {
     "name": "stdout",
     "output_type": "stream",
     "text": [
      "Data Loaders for training, validation, and testing are ready.\n"
     ]
    }
   ],
   "execution_count": 7
  },
  {
   "metadata": {},
   "cell_type": "markdown",
   "source": "## Building the Model Architecture\n",
   "id": "8b20b07c5067221e"
  },
  {
   "metadata": {},
   "cell_type": "markdown",
   "source": [
    "every pytorch model should inherit from `nn.Module` class. The model should have the following methods.\n",
    "- `__init__` - constructor to initialize the model with a pre-trained BERT model and a CNN layer.\n",
    "    - `self.bert` - stores the pre-trained BERT model.\n",
    "    - `self.cnn` - stores the CNN layer.\n",
    "    - `self.relu` - stores the ReLU activation function.\n",
    "    - `self.pool` - stores the adaptive max pooling layer."
   ],
   "id": "65a3d2b79b4ea8c"
  },
  {
   "metadata": {
    "ExecuteTime": {
     "end_time": "2025-09-05T15:45:49.832009Z",
     "start_time": "2025-09-05T15:45:49.826334Z"
    }
   },
   "cell_type": "code",
   "source": [
    "class SinbertCNN(nn.Module):\n",
    "    \"\"\"\n",
    "    SinbertCNN combines a RoBERTa-based encoder with CNN layers for emotion classification.\n",
    "    Args:\n",
    "        num_labels (int): Number of output classes.\n",
    "        embedding_dim (int): Dimensionality of SinBERT embeddings.\n",
    "        num_filters (int): Number of filters per CNN layer.\n",
    "        kernel_sizes (list): List of kernel sizes for CNN layers.\n",
    "        dropout_rate (float): Dropout rate for regularization.\n",
    "        pretrained_model_name (str): Name of the pretrained RoBERTa model.\n",
    "    \"\"\"\n",
    "    def __init__(self, num_labels, embedding_dim=1024, num_filters=100, kernel_sizes=None, dropout_rate=0.5, pretrained_model_name=\"NLPC-UOM/SinBERT-large\"):\n",
    "        super(SinbertCNN, self).__init__()\n",
    "        if kernel_sizes is None:\n",
    "            kernel_sizes = [3, 4, 5]\n",
    "        self.sinbert = RobertaModel.from_pretrained(pretrained_model_name)\n",
    "        self.convs = nn.ModuleList([\n",
    "            nn.Conv1d(in_channels=embedding_dim,\n",
    "                      out_channels=num_filters,\n",
    "                      kernel_size=k)\n",
    "            for k in kernel_sizes\n",
    "        ])\n",
    "        self.dropout = nn.Dropout(dropout_rate)\n",
    "        self.fc = nn.Linear(num_filters * len(kernel_sizes), num_labels)\n",
    "\n",
    "    def forward(self, input_ids, attention_mask):\n",
    "        outputs = self.sinbert(input_ids=input_ids, attention_mask=attention_mask)\n",
    "        embeddings = outputs.last_hidden_state\n",
    "        x = embeddings.permute(0, 2, 1)\n",
    "        conv_outputs = [torch.relu(conv(x)) for conv in self.convs]\n",
    "        pooled_outputs = [torch.max(conv_output, dim=2)[0] for conv_output in conv_outputs]\n",
    "        concatenated_output = torch.cat(pooled_outputs, dim=1)\n",
    "        dropout_output = self.dropout(concatenated_output)\n",
    "        logits = self.fc(dropout_output)\n",
    "        return logits"
   ],
   "id": "9b44de63a9e37719",
   "outputs": [],
   "execution_count": 8
  },
  {
   "metadata": {},
   "cell_type": "markdown",
   "source": "## Training the Model",
   "id": "8059f8724222baac"
  },
  {
   "metadata": {
    "ExecuteTime": {
     "end_time": "2025-09-05T15:45:49.871995Z",
     "start_time": "2025-09-05T15:45:49.862667Z"
    }
   },
   "cell_type": "code",
   "source": [
    "def train_model(model, train_loader, val_loader, criterion, optimizer, device, epochs=3):\n",
    "    train_losses, train_accuracies = [], []\n",
    "    val_losses, val_accuracies = [], []\n",
    "    for epoch in range(epochs):\n",
    "        model.train()\n",
    "        running_loss, correct, total = 0.0, 0, 0\n",
    "        for batch in train_loader:\n",
    "            input_ids = batch['input_ids'].to(device)\n",
    "            attention_mask = batch['attention_mask'].to(device)\n",
    "            labels = batch['labels'].to(device)\n",
    "            optimizer.zero_grad()\n",
    "            outputs = model(input_ids=input_ids, attention_mask=attention_mask)\n",
    "            loss = criterion(outputs, labels)\n",
    "            loss.backward()\n",
    "            optimizer.step()\n",
    "            running_loss += loss.item() * input_ids.size(0)\n",
    "            preds = torch.argmax(outputs, dim=1)\n",
    "            correct += (preds == labels).float().sum().item()\n",
    "            total += labels.size(0)\n",
    "        epoch_loss = running_loss / total\n",
    "        epoch_acc = correct / total\n",
    "        train_losses.append(epoch_loss)\n",
    "        train_accuracies.append(epoch_acc)\n",
    "        # Validation\n",
    "        model.eval()\n",
    "        val_running_loss, val_correct, val_total = 0.0, 0, 0\n",
    "        with torch.no_grad():\n",
    "            for batch in val_loader:\n",
    "                input_ids = batch['input_ids'].to(device)\n",
    "                attention_mask = batch['attention_mask'].to(device)\n",
    "                labels = batch['labels'].to(device)\n",
    "                outputs = model(input_ids=input_ids, attention_mask=attention_mask)\n",
    "                loss = criterion(outputs, labels)\n",
    "                val_running_loss += loss.item() * input_ids.size(0)\n",
    "                preds = torch.argmax(outputs, dim=1)\n",
    "                val_correct += (preds == labels).float().sum().item()\n",
    "                val_total += labels.size(0)\n",
    "        val_losses.append(val_running_loss / val_total)\n",
    "        val_accuracies.append(val_correct / val_total)\n",
    "        print(f\"Epoch {epoch+1}/{epochs} - Train Loss: {epoch_loss:.4f}, Train Acc: {epoch_acc:.4f}, Val Loss: {val_losses[-1]:.4f}, Val Acc: {val_accuracies[-1]:.4f}\")\n",
    "    return train_losses, train_accuracies, val_losses, val_accuracies\n",
    "\n",
    "def evaluate_metrics(model, data_loader, device):\n",
    "    model.eval()\n",
    "    all_preds = []\n",
    "    all_labels = []\n",
    "    with torch.no_grad():\n",
    "        for batch in data_loader:\n",
    "            input_ids = batch['input_ids'].to(device)\n",
    "            attention_mask = batch['attention_mask'].to(device)\n",
    "            labels = batch['labels'].to(device)\n",
    "            outputs = model(input_ids=input_ids, attention_mask=attention_mask)\n",
    "            preds = torch.argmax(outputs, dim=1)\n",
    "            all_preds.extend(preds.cpu().numpy())\n",
    "            all_labels.extend(labels.cpu().numpy())\n",
    "    from sklearn.metrics import accuracy_score, precision_recall_fscore_support\n",
    "    acc = accuracy_score(all_labels, all_preds)\n",
    "    precision, recall, f1, _ = precision_recall_fscore_support(all_labels, all_preds, average='weighted')\n",
    "    return acc, precision, recall, f1\n",
    "\n",
    "# Usage:\n",
    "# Use your validation or test loader for proper evaluation\n",
    "# acc, precision, recall, f1 = evaluate_metrics(model, val_loader, device)"
   ],
   "id": "17802b65b3b115ae",
   "outputs": [],
   "execution_count": 9
  },
  {
   "metadata": {
    "ExecuteTime": {
     "end_time": "2025-09-05T15:45:53.417100Z",
     "start_time": "2025-09-05T15:45:49.901582Z"
    }
   },
   "cell_type": "code",
   "source": "!pip install ipywidgets",
   "id": "55d810a99b5c8648",
   "outputs": [
    {
     "name": "stdout",
     "output_type": "stream",
     "text": [
      "Requirement already satisfied: ipywidgets in f:\\uoje\\research\\.venv\\lib\\site-packages (8.1.7)\n",
      "Requirement already satisfied: comm>=0.1.3 in f:\\uoje\\research\\.venv\\lib\\site-packages (from ipywidgets) (0.2.2)\n",
      "Requirement already satisfied: ipython>=6.1.0 in f:\\uoje\\research\\.venv\\lib\\site-packages (from ipywidgets) (9.4.0)\n",
      "Requirement already satisfied: traitlets>=4.3.1 in f:\\uoje\\research\\.venv\\lib\\site-packages (from ipywidgets) (5.14.3)\n",
      "Requirement already satisfied: widgetsnbextension~=4.0.14 in f:\\uoje\\research\\.venv\\lib\\site-packages (from ipywidgets) (4.0.14)\n",
      "Requirement already satisfied: jupyterlab_widgets~=3.0.15 in f:\\uoje\\research\\.venv\\lib\\site-packages (from ipywidgets) (3.0.15)\n",
      "Requirement already satisfied: colorama in f:\\uoje\\research\\.venv\\lib\\site-packages (from ipython>=6.1.0->ipywidgets) (0.4.6)\n",
      "Requirement already satisfied: decorator in f:\\uoje\\research\\.venv\\lib\\site-packages (from ipython>=6.1.0->ipywidgets) (5.2.1)\n",
      "Requirement already satisfied: ipython-pygments-lexers in f:\\uoje\\research\\.venv\\lib\\site-packages (from ipython>=6.1.0->ipywidgets) (1.1.1)\n",
      "Requirement already satisfied: jedi>=0.16 in f:\\uoje\\research\\.venv\\lib\\site-packages (from ipython>=6.1.0->ipywidgets) (0.19.2)\n",
      "Requirement already satisfied: matplotlib-inline in f:\\uoje\\research\\.venv\\lib\\site-packages (from ipython>=6.1.0->ipywidgets) (0.1.7)\n",
      "Requirement already satisfied: prompt_toolkit<3.1.0,>=3.0.41 in f:\\uoje\\research\\.venv\\lib\\site-packages (from ipython>=6.1.0->ipywidgets) (3.0.51)\n",
      "Requirement already satisfied: pygments>=2.4.0 in f:\\uoje\\research\\.venv\\lib\\site-packages (from ipython>=6.1.0->ipywidgets) (2.19.2)\n",
      "Requirement already satisfied: stack_data in f:\\uoje\\research\\.venv\\lib\\site-packages (from ipython>=6.1.0->ipywidgets) (0.6.3)\n",
      "Requirement already satisfied: wcwidth in f:\\uoje\\research\\.venv\\lib\\site-packages (from prompt_toolkit<3.1.0,>=3.0.41->ipython>=6.1.0->ipywidgets) (0.2.13)\n",
      "Requirement already satisfied: parso<0.9.0,>=0.8.4 in f:\\uoje\\research\\.venv\\lib\\site-packages (from jedi>=0.16->ipython>=6.1.0->ipywidgets) (0.8.4)\n",
      "Requirement already satisfied: executing>=1.2.0 in f:\\uoje\\research\\.venv\\lib\\site-packages (from stack_data->ipython>=6.1.0->ipywidgets) (2.2.0)\n",
      "Requirement already satisfied: asttokens>=2.1.0 in f:\\uoje\\research\\.venv\\lib\\site-packages (from stack_data->ipython>=6.1.0->ipywidgets) (3.0.0)\n",
      "Requirement already satisfied: pure-eval in f:\\uoje\\research\\.venv\\lib\\site-packages (from stack_data->ipython>=6.1.0->ipywidgets) (0.2.3)\n"
     ]
    },
    {
     "name": "stderr",
     "output_type": "stream",
     "text": [
      "\n",
      "[notice] A new release of pip is available: 25.1.1 -> 25.2\n",
      "[notice] To update, run: python.exe -m pip install --upgrade pip\n"
     ]
    }
   ],
   "execution_count": 10
  },
  {
   "metadata": {},
   "cell_type": "markdown",
   "source": "#### Hyperparameter tuning",
   "id": "3175add2ad6e3282"
  },
  {
   "metadata": {
    "ExecuteTime": {
     "end_time": "2025-09-05T17:24:35.471076Z",
     "start_time": "2025-09-05T17:24:35.455655Z"
    }
   },
   "cell_type": "code",
   "source": [
    "import torch\n",
    "\n",
    "def train_model_with_early_stopping(model, train_loader, val_loader, criterion, optimizer, device, epochs=10, patience=2):\n",
    "    train_losses, train_accuracies = [], []\n",
    "    val_losses, val_accuracies = [], []\n",
    "    best_val_loss = float('inf')\n",
    "    patience_counter = 0\n",
    "\n",
    "    for epoch in range(epochs):\n",
    "        model.train()\n",
    "        running_loss, correct, total = 0.0, 0, 0\n",
    "        for batch in train_loader:\n",
    "            input_ids = batch['input_ids'].to(device)\n",
    "            attention_mask = batch['attention_mask'].to(device)\n",
    "            labels = batch['labels'].to(device)\n",
    "            optimizer.zero_grad()\n",
    "            outputs = model(input_ids=input_ids, attention_mask=attention_mask)\n",
    "            loss = criterion(outputs, labels)\n",
    "            loss.backward()\n",
    "            optimizer.step()\n",
    "            running_loss += loss.item() * input_ids.size(0)\n",
    "            preds = torch.argmax(outputs, dim=1)\n",
    "            correct += (preds == labels).float().sum().item()\n",
    "            total += labels.size(0)\n",
    "        epoch_loss = running_loss / total\n",
    "        epoch_acc = correct / total\n",
    "        train_losses.append(epoch_loss)\n",
    "        train_accuracies.append(epoch_acc)\n",
    "\n",
    "        # Validation\n",
    "        model.eval()\n",
    "        val_running_loss, val_correct, val_total = 0.0, 0, 0\n",
    "        with torch.no_grad():\n",
    "            for batch in val_loader:\n",
    "                input_ids = batch['input_ids'].to(device)\n",
    "                attention_mask = batch['attention_mask'].to(device)\n",
    "                labels = batch['labels'].to(device)\n",
    "                outputs = model(input_ids=input_ids, attention_mask=attention_mask)\n",
    "                loss = criterion(outputs, labels)\n",
    "                val_running_loss += loss.item() * input_ids.size(0)\n",
    "                preds = torch.argmax(outputs, dim=1)\n",
    "                val_correct += (preds == labels).float().sum().item()\n",
    "                val_total += labels.size(0)\n",
    "        val_loss = val_running_loss / val_total\n",
    "        val_acc = val_correct / val_total\n",
    "        val_losses.append(val_loss)\n",
    "        val_accuracies.append(val_acc)\n",
    "        print(f\"Epoch {epoch+1}/{epochs} - Train Loss: {epoch_loss:.4f}, Train Acc: {epoch_acc:.4f}, Val Loss: {val_loss:.4f}, Val Acc: {val_acc:.4f}\")\n",
    "\n",
    "        # Early stopping check\n",
    "        if val_loss < best_val_loss:\n",
    "            best_val_loss = val_loss\n",
    "            patience_counter = 0\n",
    "            best_model_state = model.state_dict()\n",
    "        else:\n",
    "            patience_counter += 1\n",
    "            if patience_counter >= patience:\n",
    "                print(f\"Early stopping at epoch {epoch+1}\")\n",
    "                model.load_state_dict(best_model_state)\n",
    "                break\n",
    "\n",
    "    return train_losses, train_accuracies, val_losses, val_accuracies"
   ],
   "id": "e9fac780a443653b",
   "outputs": [],
   "execution_count": 12
  },
  {
   "metadata": {
    "jupyter": {
     "is_executing": true
    },
    "ExecuteTime": {
     "start_time": "2025-09-05T17:25:43.284521Z"
    }
   },
   "cell_type": "code",
   "source": [
    "import itertools\n",
    "\n",
    "# Define hyperparameter grid\n",
    "param_grid = {\n",
    "    'embedding_dim': [768, 1024],\n",
    "    'num_filters': [50, 100],\n",
    "    'kernel_sizes': [[3, 4, 5], [2, 3, 4, 5]],\n",
    "    'dropout_rate': [0.3, 0.5],\n",
    "}\n",
    "\n",
    "all_combinations = list(itertools.product(\n",
    "    param_grid['embedding_dim'],\n",
    "    param_grid['num_filters'],\n",
    "    param_grid['kernel_sizes'],\n",
    "    param_grid['dropout_rate']\n",
    "))\n",
    "\n",
    "# Hyperparameter tuning loop with status bar\n",
    "results = []\n",
    "num_labels = len(df['label'].unique())\n",
    "\n",
    "for emb_dim, num_filt, kernels, drop in tqdm(all_combinations, desc='Hyperparameter Tuning'):\n",
    "    model = SinbertCNN(\n",
    "        num_labels=num_labels,\n",
    "        embedding_dim=emb_dim,\n",
    "        num_filters=num_filt,\n",
    "        kernel_sizes=kernels,\n",
    "        dropout_rate=drop\n",
    "    ).to(device)\n",
    "    optimizer = AdamW(model.parameters(), lr=2e-5, weight_decay=0.01)\n",
    "    train_model_with_early_stopping(\n",
    "        model=model,\n",
    "        train_loader=train_data_loader,\n",
    "        val_loader=test_data_loader,\n",
    "        criterion=criterion,\n",
    "        optimizer=optimizer,\n",
    "        device=device,\n",
    "        epochs=10,      # Set higher epochs\n",
    "        patience=2      # Early stopping patience\n",
    "    )\n",
    "    acc, precision, recall, f1 = evaluate_metrics(model, test_data_loader, device)\n",
    "    results.append({\n",
    "        'params': (emb_dim, num_filt, kernels, drop),\n",
    "        'accuracy': acc,\n",
    "        'precision': precision,\n",
    "        'recall': recall,\n",
    "        'f1': f1\n",
    "    })\n",
    "\n",
    "# After hyperparameter tuning loop\n",
    "best_result = max(results, key=lambda x: x['accuracy'])\n",
    "print('Best hyperparameters:', best_result['params'])\n",
    "print('Best accuracy:', best_result['accuracy'])\n",
    "print('Best precision:', best_result['precision'])\n",
    "print('Best recall:', best_result['recall'])\n",
    "print('Best F1:', best_result['f1'])\n",
    "\n",
    "# Plot performance metrics for all hyperparameter combinations\n",
    "accuracies = [r['accuracy'] for r in results]\n",
    "precisions = [r['precision'] for r in results]\n",
    "recalls = [r['recall'] for r in results]\n",
    "f1s = [r['f1'] for r in results]\n",
    "labels = [str(r['params']) for r in results]\n",
    "\n",
    "plt.figure(figsize=(12, 8))\n",
    "plt.plot(labels, accuracies, marker='o', label='Accuracy')\n",
    "plt.plot(labels, precisions, marker='o', label='Precision')\n",
    "plt.plot(labels, recalls, marker='o', label='Recall')\n",
    "plt.plot(labels, f1s, marker='o', label='F1 Score')\n",
    "plt.xticks(rotation=90)\n",
    "plt.xlabel('Hyperparameter Combination')\n",
    "plt.ylabel('Score')\n",
    "plt.title('Performance Metrics Across Hyperparameter Combinations')\n",
    "plt.legend()\n",
    "plt.tight_layout()\n",
    "plt.show()"
   ],
   "id": "d2dbe2d0be0fc4a4",
   "outputs": [
    {
     "data": {
      "text/plain": [
       "Hyperparameter Tuning:   0%|          | 0/16 [00:00<?, ?it/s]"
      ],
      "application/vnd.jupyter.widget-view+json": {
       "version_major": 2,
       "version_minor": 0,
       "model_id": "6e06427bea6a4805852be9fc3937775c"
      }
     },
     "metadata": {},
     "output_type": "display_data"
    },
    {
     "name": "stderr",
     "output_type": "stream",
     "text": [
      "Some weights of RobertaModel were not initialized from the model checkpoint at NLPC-UOM/SinBERT-large and are newly initialized: ['pooler.dense.bias', 'pooler.dense.weight']\n",
      "You should probably TRAIN this model on a down-stream task to be able to use it for predictions and inference.\n"
     ]
    }
   ],
   "execution_count": null
  },
  {
   "metadata": {},
   "cell_type": "markdown",
   "source": "## Validation",
   "id": "ff319dfb7ea45c07"
  },
  {
   "metadata": {
    "ExecuteTime": {
     "end_time": "2025-09-05T17:24:27.439689800Z",
     "start_time": "2025-09-05T15:34:05.786554Z"
    }
   },
   "cell_type": "code",
   "source": "",
   "id": "72cd3173a521ea76",
   "outputs": [],
   "execution_count": 24
  },
  {
   "metadata": {
    "ExecuteTime": {
     "end_time": "2025-09-05T17:24:27.440686300Z",
     "start_time": "2025-07-23T17:30:25.814922Z"
    }
   },
   "cell_type": "code",
   "source": [
    "import matplotlib.pyplot as plt\n",
    "\n",
    "# Example lists to store metrics\n",
    "train_losses = []\n",
    "train_accuracies = []\n",
    "\n",
    "# After each epoch in your training loop, append metrics:\n",
    "# train_losses.append(epoch_loss)\n",
    "# train_accuracies.append(epoch_accuracy)\n",
    "\n",
    "# Plotting\n",
    "plt.figure(figsize=(10, 4))\n",
    "plt.subplot(1, 2, 1)\n",
    "plt.plot(train_losses, label='Train Loss')\n",
    "plt.xlabel('Epoch')\n",
    "plt.ylabel('Loss')\n",
    "plt.title('Training Loss')\n",
    "plt.legend()\n",
    "\n",
    "plt.subplot(1, 2, 2)\n",
    "plt.plot(train_accuracies, label='Train Accuracy')\n",
    "plt.xlabel('Epoch')\n",
    "plt.ylabel('Accuracy')\n",
    "plt.title('Training Accuracy')\n",
    "plt.legend()\n",
    "\n",
    "plt.tight_layout()\n",
    "plt.show()"
   ],
   "id": "bb826566c2c5f4c3",
   "outputs": [
    {
     "data": {
      "text/plain": [
       "<Figure size 1000x400 with 2 Axes>"
      ],
      "image/png": "[encoded data removed]"
     },
     "metadata": {},
     "output_type": "display_data"
    }
   ],
   "execution_count": 19
  }
 ],
 "metadata": {
  "kernelspec": {
   "display_name": "Python 3",
   "language": "python",
   "name": "python3"
  },
  "language_info": {
   "codemirror_mode": {
    "name": "ipython",
    "version": 2
   },
   "file_extension": ".py",
   "mimetype": "text/x-python",
   "name": "python",
   "nbconvert_exporter": "python",
   "pygments_lexer": "ipython2",
   "version": "2.7.6"
  }
 },
 "nbformat": 4,
 "nbformat_minor": 5
}
